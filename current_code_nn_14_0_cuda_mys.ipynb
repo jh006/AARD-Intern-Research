{
 "cells": [
  {
   "cell_type": "code",
   "execution_count": 1,
   "metadata": {
    "id": "Uio5uQQYTcRp"
   },
   "outputs": [],
   "source": [
    "import torch  # to use PyTorch (optimized tensor library for deep learning using GPU and CPU)\n",
    "from torch import nn  #module torch. nn: diff classes, help  build nns\n",
    "from torch.utils.data import DataLoader  \n",
    "import numpy as np   # NumPy: Python library used for working w/arrays\n",
    "                     #np.arrange, np.random.shuffle\n",
    "import pandas as pd  #pandas: software library for data manipulation + analysis\n",
    "                     #pd.read.csv   \n",
    "\n",
    "from sklearn.metrics import r2_score\n",
    "import matplotlib.pyplot as plt\n",
    "import torch.optim as optim\n"
   ]
  },
  {
   "cell_type": "code",
   "execution_count": 2,
   "metadata": {},
   "outputs": [
    {
     "data": {
      "text/plain": [
       "True"
      ]
     },
     "execution_count": 2,
     "metadata": {},
     "output_type": "execute_result"
    }
   ],
   "source": [
    "torch.cuda.is_available()"
   ]
  },
  {
   "cell_type": "code",
   "execution_count": 3,
   "metadata": {},
   "outputs": [],
   "source": [
    "#parameters\n",
    "lr = 1e-6\n",
    "# momentum = 0.9\n",
    "dropout_rate = 0.25\n",
    "td_ratio = 0.7  # define percent of data that's training data\n",
    "batch_size = 200"
   ]
  },
  {
   "cell_type": "code",
   "execution_count": 4,
   "metadata": {},
   "outputs": [],
   "source": [
    "path = 'C:/Users/misha/Desktop/Python codes/Julia/training data/'"
   ]
  },
  {
   "cell_type": "code",
   "execution_count": 5,
   "metadata": {
    "id": "_QG8koT5zuL_"
   },
   "outputs": [],
   "source": [
    "df1 = pd.read_csv(path + \"parameters.csv\", header=None)  #reads csv file; makes 0, 1, 2, 3 the heading instead of the first row of parameter values"
   ]
  },
  {
   "cell_type": "code",
   "execution_count": 6,
   "metadata": {
    "colab": {
     "base_uri": "https://localhost:8080/"
    },
    "id": "7NdWvHTR47HJ",
    "outputId": "ee418d1b-d885-4198-9796-4ed0a8b09186"
   },
   "outputs": [
    {
     "name": "stdout",
     "output_type": "stream",
     "text": [
      "       0     1     2     3\n",
      "0  22.01  0.72  1.21  0.61\n",
      "1  19.77  0.14  1.29  0.95\n",
      "2  24.64  1.32  1.21  0.66\n",
      "3  24.55  0.87  1.42  0.99\n",
      "4  21.79  0.51  1.26  0.76\n",
      "65611\n"
     ]
    }
   ],
   "source": [
    "df1.head() \n",
    "print(df1.head()) #gives first 5 rows\n",
    "print(df1.shape[0]) #prints number of rows"
   ]
  },
  {
   "cell_type": "code",
   "execution_count": null,
   "metadata": {
    "colab": {
     "base_uri": "https://localhost:8080/"
    },
    "id": "Zov3dON4OvIB",
    "outputId": "5f4c3105-0e05-40ca-d29e-fae6dd89b409"
   },
   "outputs": [],
   "source": [
    "# !gdown --id 1zGRT4aNV71ASxFXsG4MTZb0ZaqNslZSf #downloads real_t.csv file "
   ]
  },
  {
   "cell_type": "code",
   "execution_count": 7,
   "metadata": {
    "id": "mVMo7wsaOxC0"
   },
   "outputs": [],
   "source": [
    "df2 = pd.read_csv(path + \"real_t.csv\", header=None)  #reads csv file; makes 0, 1, 2, 3 the heading instead of the first row of real_t values"
   ]
  },
  {
   "cell_type": "code",
   "execution_count": 8,
   "metadata": {
    "colab": {
     "base_uri": "https://localhost:8080/"
    },
    "id": "DUF6v_wpO28-",
    "outputId": "9dd61bdc-55c3-4353-d141-5cd93e4f3b53"
   },
   "outputs": [
    {
     "name": "stdout",
     "output_type": "stream",
     "text": [
      "        0         1         2         3         4         5         6    \\\n",
      "0 -0.923212 -0.913157 -0.901995 -0.889732 -0.876373 -0.861930 -0.846413   \n",
      "1 -0.150980 -0.107935 -0.064665 -0.021280  0.022109  0.065395  0.108474   \n",
      "2 -0.949474 -0.942679 -0.934842 -0.925965 -0.916052 -0.905110 -0.893145   \n",
      "3 -0.015974  0.031830  0.077765  0.121477  0.162622  0.200877  0.235939   \n",
      "4 -0.762562 -0.739172 -0.714570 -0.688787 -0.661854 -0.633810 -0.604694   \n",
      "\n",
      "        7         8         9    ...       291       292       293       294  \\\n",
      "0 -0.829833 -0.812206 -0.793548  ...  0.245705  0.230979  0.215836  0.200349   \n",
      "1  0.151243  0.193603  0.235461  ...  0.087291  0.242819  0.391866  0.527432   \n",
      "2 -0.880165 -0.866178 -0.851196  ...  0.825729  0.855296  0.881989  0.905727   \n",
      "3  0.267534  0.295418  0.319384  ...  0.435294  0.451729  0.466411  0.479366   \n",
      "4 -0.574548 -0.543418 -0.511353  ... -0.068997 -0.047779 -0.019230  0.016327   \n",
      "\n",
      "        295       296       297       298       299       300  \n",
      "0  0.184594  0.168656  0.152626  0.136604  0.120697  0.105025  \n",
      "1  0.643482  0.735414  0.800337  0.837132  0.846358  0.830031  \n",
      "2  0.926430  0.944015  0.958400  0.969504  0.977244  0.981539  \n",
      "3  0.490628  0.500236  0.508234  0.514671  0.519597  0.523061  \n",
      "4  0.058388  0.106278  0.159172  0.216121  0.276085  0.337978  \n",
      "\n",
      "[5 rows x 301 columns]\n",
      "65611\n"
     ]
    }
   ],
   "source": [
    "df2.head() \n",
    "print(df2.head()) #prints first 5 rows\n",
    "print(df2.shape[0]) #prints number of rows"
   ]
  },
  {
   "cell_type": "code",
   "execution_count": 9,
   "metadata": {
    "colab": {
     "base_uri": "https://localhost:8080/"
    },
    "id": "wSNSbu1QmTvR",
    "outputId": "c67aefe2-39fe-491a-d25d-5b3c41822251"
   },
   "outputs": [
    {
     "name": "stdout",
     "output_type": "stream",
     "text": [
      "full x data shape: torch.Size([65611, 4]) cuda:0\n",
      "x train data shape: torch.Size([45927, 1, 4]) cuda:0\n",
      "x test data shape: torch.Size([19684, 1, 4]) cuda:0\n",
      "y full data shape: torch.Size([65611, 301]) cuda:0\n",
      "y train data shape: torch.Size([45927, 1, 301]) cuda:0\n",
      "y test data shape: torch.Size([19684, 1, 301]) cuda:0\n"
     ]
    }
   ],
   "source": [
    "torch.manual_seed(0) # Sets the seed for generating random numbers. will have the same random numbers each time\n",
    "\n",
    "# split the full data into training and test\n",
    "x_full=torch.tensor(df1.iloc[0:len(df1)].values).float().cuda()   #full x data from parameters.csv\n",
    "y_full=torch.tensor(df2.iloc[0:len(df2)].values).float().cuda()   #full y data from real_t\n",
    "\n",
    "inx=np.arange(len(df1)) # create array 0 to length(df1)-1\n",
    "np.random.shuffle(inx)   #randomly shuffle the index of the data\n",
    " \n",
    "train_size= int(td_ratio*(len(df1))) # size of training data\n",
    "training_id x, test_idx = inx[:train_size], inx[train_size:] # index of training and test data\n",
    "x_train, x_test = x_full[training_idx,:], x_full[test_idx,:] #training x data and test data with shuffled inx \n",
    "y_train, y_test = y_full[training_idx,:], y_full[test_idx,:] #training y data and test data with shuffled inx \n",
    "\n",
    "#convert the data into N*1*4 shape or N*1*301 shape\n",
    "x_train=x_train.reshape(len(x_train),1,4)\n",
    "x_test=x_test.reshape(len(x_test),1,4)\n",
    "y_train=y_train.reshape(len(y_train),1,301)\n",
    "y_test=y_test.reshape(len(y_test),1,301)\n",
    "\n",
    "\n",
    "#print data shapes \n",
    "print('full x data shape:',x_full.shape, x_full.device)\n",
    "print('x train data shape:', x_train.shape, x_train.device)\n",
    "print('x test data shape:', x_test.shape, x_test.device)\n",
    "print('y full data shape:',  y_full.shape, y_full.device)\n",
    "print('y train data shape:', y_train.shape, y_train.device)\n",
    "print('y test data shape:', y_test.shape, y_test.device)"
   ]
  },
  {
   "cell_type": "code",
   "execution_count": 10,
   "metadata": {
    "id": "XimLzBrcaUAD"
   },
   "outputs": [],
   "source": [
    "\n",
    "def f(x, W1,W2, V, b): #def bilinear function; x is a N*1*4\n",
    " Q=torch.randn(len(x),1,50).cuda() #Q is N*1*50  \n",
    " A = torch.randn(50,1).cuda() #define A\n",
    " F = torch.randn(50,1).cuda() #define F\n",
    " for i in range (0,len(x)): \n",
    "     e=torch.transpose(x[i],1,0).cuda() #transpose x from row to column (check) \n",
    "     et = torch.transpose(e,1,0).cuda()   #transpose e from row to column (check)\n",
    "     esq = torch.mul(e, e).cuda()  #squares e\n",
    "     for k in range (0, 50): \n",
    "         A[k, 0] = torch.mm(et,torch.mm(W1[k, :, :], e))  #puts values together -> 50x1 tensor\n",
    "         F[k, 0] =torch.mm(et,torch.mm(W2[k, :, :], esq))  #matrix multiplication\n",
    "     ecat = torch.cat((e, esq)) \n",
    "     L=torch.mm(V, ecat)\n",
    "     Q[i]= torch.transpose(A + F + L + b, 1,0) #adds all four 50x1 tensors -> output\n",
    " return(Q)\n",
    "\n",
    "\n",
    " \n",
    "\n",
    " "
   ]
  },
  {
   "cell_type": "code",
   "execution_count": 11,
   "metadata": {
    "id": "W1LTUxGx6Udq"
   },
   "outputs": [],
   "source": [
    "\n",
    "class NeuralNetwork(nn.Module):   #https://pytorch.org/tutorials/beginner/basics/buildmodel_tutorial.html\n",
    "    def __init__(self):\n",
    "        super(NeuralNetwork, self).__init__()\n",
    "        self.flatten = nn.Flatten()\n",
    "\n",
    "        self.W1 = torch.nn.Parameter(torch.randn(50, 4, 4)) #define W, tensor, 50 layers of 4x4 matrices\n",
    "        self.W2 = torch.nn.Parameter(torch.randn(50, 4, 4)) #define W, tensor, 50 layers of 4x4 matrices\n",
    "        #W2 = torch.randn(50, 4, 4, requires_grad=True) #define W2\n",
    "        self.V = torch.nn.Parameter(torch.randn(50,8))    #define V\n",
    "        self.b = torch.nn.Parameter(torch.randn(50,1))    #define b        \n",
    "        self.linear_relu_stack = nn.Sequential(   #nn.Sequential -> output of each layer as input of next layer\n",
    "            nn.ReLU(),  #ReLU: activation function (defines output/what goes into next layer)\n",
    "            nn.Linear(50, 500), # creates single layer feed forward network with 50 inputs and 500 outputs\n",
    "            nn.ReLU(),\n",
    "            nn.Linear(500, 500),\n",
    "            nn.ReLU(),\n",
    "            nn.Linear(500, 500),\n",
    "            nn.ReLU(),\n",
    "            nn.Linear(500, 301),\n",
    "        )\n",
    "        self.dropout = nn.Dropout(dropout_rate)\n",
    "    \n",
    "    def forward(self, x): #def forward function\n",
    "       Q=f(x, self.W1,self.W2,self.V, self.b)\n",
    "       logits = self.linear_relu_stack(Q)\n",
    "       return logits  "
   ]
  },
  {
   "cell_type": "code",
   "execution_count": null,
   "metadata": {},
   "outputs": [],
   "source": [
    "# for n, p in model.named_parameters():\n",
    "#     print(p.device, '', n)"
   ]
  },
  {
   "cell_type": "code",
   "execution_count": 12,
   "metadata": {},
   "outputs": [],
   "source": [
    "model = NeuralNetwork().cuda() "
   ]
  },
  {
   "cell_type": "code",
   "execution_count": 13,
   "metadata": {
    "id": "BJx4jSBktJ5o"
   },
   "outputs": [
    {
     "name": "stdout",
     "output_type": "stream",
     "text": [
      "tensor(153614.2344, device='cuda:0', grad_fn=<MseLossBackward0>)\n",
      "tensor(153132.6719, device='cuda:0', grad_fn=<MseLossBackward0>)\n",
      "tensor(152652.3281, device='cuda:0', grad_fn=<MseLossBackward0>)\n"
     ]
    },
    {
     "ename": "KeyboardInterrupt",
     "evalue": "",
     "output_type": "error",
     "traceback": [
      "\u001b[1;31m---------------------------------------------------------------------------\u001b[0m",
      "\u001b[1;31mKeyboardInterrupt\u001b[0m                         Traceback (most recent call last)",
      "\u001b[1;32m~\\AppData\\Local\\Temp/ipykernel_14804/2245304228.py\u001b[0m in \u001b[0;36m<module>\u001b[1;34m\u001b[0m\n\u001b[0;32m     43\u001b[0m     \u001b[1;31m# Compute and print loss\u001b[0m\u001b[1;33m\u001b[0m\u001b[1;33m\u001b[0m\u001b[0m\n\u001b[0;32m     44\u001b[0m     \u001b[0mloss\u001b[0m \u001b[1;33m=\u001b[0m \u001b[0mloss_func\u001b[0m\u001b[1;33m(\u001b[0m\u001b[0my_pred\u001b[0m\u001b[1;33m,\u001b[0m \u001b[0my_train\u001b[0m\u001b[1;33m.\u001b[0m\u001b[0mcuda\u001b[0m\u001b[1;33m(\u001b[0m\u001b[1;33m)\u001b[0m\u001b[1;33m)\u001b[0m\u001b[1;33m\u001b[0m\u001b[1;33m\u001b[0m\u001b[0m\n\u001b[1;32m---> 45\u001b[1;33m     \u001b[0mTrainloss\u001b[0m\u001b[1;33m.\u001b[0m\u001b[0mappend\u001b[0m\u001b[1;33m(\u001b[0m\u001b[0mloss\u001b[0m\u001b[1;33m.\u001b[0m\u001b[0mitem\u001b[0m\u001b[1;33m(\u001b[0m\u001b[1;33m)\u001b[0m\u001b[1;33m)\u001b[0m\u001b[1;33m\u001b[0m\u001b[1;33m\u001b[0m\u001b[0m\n\u001b[0m\u001b[0;32m     46\u001b[0m     \u001b[0mindices\u001b[0m\u001b[1;33m.\u001b[0m\u001b[0mappend\u001b[0m\u001b[1;33m(\u001b[0m\u001b[0mepoch\u001b[0m\u001b[1;33m+\u001b[0m\u001b[1;36m1\u001b[0m\u001b[1;33m)\u001b[0m\u001b[1;33m\u001b[0m\u001b[1;33m\u001b[0m\u001b[0m\n\u001b[0;32m     47\u001b[0m     \u001b[0mprint\u001b[0m\u001b[1;33m(\u001b[0m\u001b[0mloss\u001b[0m\u001b[1;33m)\u001b[0m\u001b[1;33m\u001b[0m\u001b[1;33m\u001b[0m\u001b[0m\n",
      "\u001b[1;31mKeyboardInterrupt\u001b[0m: "
     ]
    }
   ],
   "source": [
    "#training the model\n",
    "\n",
    "from torch.autograd import Variable  # Variable wraps tensor, gives way to perform backpropagation\n",
    "x_train , y_train =(Variable(x_train),Variable(y_train))\n",
    "\n",
    "\n",
    "# optimizer = torch.optim.SGD(model.parameters(), lr=lr, momentum=momentum)\n",
    "optimizer = optim.Adam(model.parameters(), lr = lr)\n",
    "\n",
    "loss_func = nn.MSELoss()\n",
    "loss = Variable(torch.FloatTensor(1)).zero_()\n",
    "loss.requires_grad_(True)\n",
    "y_pred = model(x_train)\n",
    "\n",
    "    # Compute and print loss\n",
    "\n",
    "loss = loss_func(y_pred, y_train.cuda())\n",
    "print(loss)\n",
    "\n",
    "Trainloss = [] # loss of every epoch in iteration for training data\n",
    "Testloss = [] #loss of every epoch in iteration for test data\n",
    "r_squared = []\n",
    "indices = []  #epochs\n",
    "\n",
    "y_train1=y_train.reshape(len(y_train),301).cuda()\n",
    "y_train2 = y_train1.detach().cuda()\n",
    "\n",
    "num_epoch = 10\n",
    "for epoch in range(num_epoch):\n",
    "    # Forward pass: Compute predicted y by passing x to the model\n",
    "    # Zero gradients, perform a backward pass, and update the weights.\n",
    "    optimizer.zero_grad()\n",
    "    loss.backward(retain_graph=True)\n",
    "    optimizer.step()\n",
    "    y_pred = model(x_train)\n",
    "\n",
    "    #r-squared score\n",
    "    y_pred1=y_pred.reshape(len(y_train),301)\n",
    "    y_pred2 = y_pred1.detach()\n",
    "    r2=r2_score(y_train2.cpu(), y_pred2.cpu())\n",
    "    r_squared.append(r2)\n",
    "\n",
    "    # Compute and print loss\n",
    "    loss = loss_func(y_pred, y_train.cuda())\n",
    "    Trainloss.append(loss.item())\n",
    "    indices.append(epoch+1)\n",
    "    print(loss)"
   ]
  },
  {
   "cell_type": "code",
   "execution_count": null,
   "metadata": {
    "id": "-ibeomImPecL"
   },
   "outputs": [],
   "source": [
    "save_path=\"./savedmodel.pth\"           # save the trained model\n",
    "torch.save(model.state_dict(),save_path )\n",
    "\n",
    "model = NeuralNetwork()\n",
    "model.load_state_dict(torch.load(save_path))# load the trained model \n",
    "model.eval() \n",
    "with torch.no_grad():\n",
    "     prediction_train = model(x_train)\n",
    "     loss = loss_func(prediction_train,y_train)\n",
    "     print(loss)"
   ]
  },
  {
   "cell_type": "code",
   "execution_count": null,
   "metadata": {
    "id": "-njG7fALOQoT"
   },
   "outputs": [],
   "source": [
    "plt.plot(indices, '-o')\n",
    "plt.plot(Trainloss, '-o')\n",
    "plt.xlabel('Epoch')\n",
    "plt.ylabel('Loss')\n",
    "plt.legend(['Train Loss','Test Loss'])\n",
    "plt.title('Epochs vs Loss')\n",
    " \n",
    "plt.show()\n",
    "\n"
   ]
  },
  {
   "cell_type": "code",
   "execution_count": null,
   "metadata": {
    "id": "b-Z7oZ5E143e"
   },
   "outputs": [],
   "source": [
    "plt.plot(r_squared, '-o')\n",
    "plt.xlabel('Epoch')\n",
    "plt.ylabel('R-squared value')\n",
    "plt.title('Epoch vs R-squared val')\n",
    "# plt.legend(['p'])\n",
    " \n",
    "plt.show()\n"
   ]
  },
  {
   "cell_type": "code",
   "execution_count": null,
   "metadata": {},
   "outputs": [],
   "source": []
  }
 ],
 "metadata": {
  "accelerator": "GPU",
  "colab": {
   "collapsed_sections": [],
   "machine_shape": "hm",
   "name": "current code: nn-13.0",
   "provenance": []
  },
  "kernelspec": {
   "display_name": "Python 3 (ipykernel)",
   "language": "python",
   "name": "python3"
  },
  "language_info": {
   "codemirror_mode": {
    "name": "ipython",
    "version": 3
   },
   "file_extension": ".py",
   "mimetype": "text/x-python",
   "name": "python",
   "nbconvert_exporter": "python",
   "pygments_lexer": "ipython3",
   "version": "3.9.7"
  }
 },
 "nbformat": 4,
 "nbformat_minor": 1
}
