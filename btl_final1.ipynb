{
  "nbformat": 4,
  "nbformat_minor": 0,
  "metadata": {
    "colab": {
      "name": "btl.final1",
      "provenance": []
    },
    "kernelspec": {
      "name": "python3",
      "display_name": "Python 3"
    },
    "language_info": {
      "name": "python"
    }
  },
  "cells": [
    {
      "cell_type": "markdown",
      "metadata": {
        "id": "zhpy1MckDMEm"
      },
      "source": [
        "bilinear layer"
      ]
    },
    {
      "cell_type": "code",
      "metadata": {
        "id": "8vc_mhVrXJ4t"
      },
      "source": [
        "import torch\n",
        "import torch.nn as nn\n",
        "import numpy as np\n",
        "import pandas as pd"
      ],
      "execution_count": null,
      "outputs": []
    },
    {
      "cell_type": "code",
      "metadata": {
        "id": "MED4uwBgd2kO"
      },
      "source": [
        "e = torch.randn(4,1)  #define e (paramters)\n",
        "#e = K #how to run using the K matrix\n",
        "W = torch.randn(50, 4, 4) #define W, tensor, 50 layers of 4x4 matrices\n",
        "W2 = torch.randn(50, 4, 4) #define W2\n",
        "V = torch.randn(50,8)  #define V\n",
        "b = torch.randn(50, 1)  #define b\n",
        "A = torch.randn(50, 1) #random tensor for bilinear_one\n",
        "F = torch.randn(50, 1) #random tensor for bilinear_two \n"
      ],
      "execution_count": null,
      "outputs": []
    },
    {
      "cell_type": "code",
      "metadata": {
        "id": "mxWr-A5qmvAy"
      },
      "source": [
        "def f1(e, W, W2, V, b, A, F):\n",
        "  et = torch.transpose(e,1,0)   #transpose e from column to row\n",
        "  esq = torch.mul(e, e)  #squares e\n",
        "  for k in range (0, 50): \n",
        "      # index = torch.tensor([k]) #index for layers of W\n",
        "      # B = torch.index_select(W, 0, index)  #gives you a layer of W\n",
        "      # C = torch.squeeze(B) # from 1x4x4 -> 4x4\n",
        "     B = W[k, :, :]\n",
        "    # D = print(torch.mm(et,torch.mm(B, e))) # gives a 1x1 tensor using layer of this loop\n",
        "     A[k, 0] = torch.mm(et,torch.mm(B, e))  #puts values together -> 50x1 tensor\n",
        "     G = W2[k, :, :]\n",
        "   #  J = print(torch.mm(et,torch.mm(G, esq))) # gives a 1x1 tensor using layer of this loop\n",
        "     F[k, 0] =torch.mm(et,torch.mm(G, esq))  #matrix multiplication\n",
        "  ecat = torch.cat((e, esq)) \n",
        "  L=torch.mm(V, ecat)\n",
        "  Q = A + F + L + b #adds all four 50x1 tensors -> output\n",
        "  return(Q)\n",
        " \n",
        "\n",
        " "
      ],
      "execution_count": null,
      "outputs": []
    },
    {
      "cell_type": "markdown",
      "metadata": {
        "id": "PFF0gUHazGYa"
      },
      "source": [
        "data importation"
      ]
    },
    {
      "cell_type": "code",
      "metadata": {
        "id": "0Sb9ibkdzJD9"
      },
      "source": [
        "import pandas as pd\n",
        "import torch "
      ],
      "execution_count": null,
      "outputs": []
    },
    {
      "cell_type": "code",
      "metadata": {
        "id": "MQtclCBf042c",
        "colab": {
          "base_uri": "https://localhost:8080/"
        },
        "outputId": "6c42af05-c0db-41cc-cd00-f354f13a0334"
      },
      "source": [
        "from google.colab import drive \n",
        "drive.mount('/content/drive')"
      ],
      "execution_count": null,
      "outputs": [
        {
          "output_type": "stream",
          "name": "stdout",
          "text": [
            "Mounted at /content/drive\n"
          ]
        }
      ]
    },
    {
      "cell_type": "code",
      "metadata": {
        "id": "zlBY0hg31UIs",
        "colab": {
          "base_uri": "https://localhost:8080/"
        },
        "outputId": "63ed24eb-1dee-4468-b5b2-dd0e432004d7"
      },
      "source": [
        "!gdown --id 1Qu35-_q61nGPDz0BzwKku27VIp7q1HbZ  #downloads csv file "
      ],
      "execution_count": null,
      "outputs": [
        {
          "output_type": "stream",
          "name": "stdout",
          "text": [
            "Downloading...\n",
            "From: https://drive.google.com/uc?id=1Qu35-_q61nGPDz0BzwKku27VIp7q1HbZ\n",
            "To: /content/parameters.csv\n",
            "\r  0% 0.00/1.41M [00:00<?, ?B/s]\r100% 1.41M/1.41M [00:00<00:00, 44.7MB/s]\n"
          ]
        }
      ]
    },
    {
      "cell_type": "code",
      "metadata": {
        "id": "_QG8koT5zuL_"
      },
      "source": [
        "df = pd.read_csv(\"parameters.csv\", header=None)  #reads csv file; makes 0, 1, 2, 3 the heading instead of the first row of parameter values"
      ],
      "execution_count": null,
      "outputs": []
    },
    {
      "cell_type": "code",
      "metadata": {
        "id": "7NdWvHTR47HJ",
        "colab": {
          "base_uri": "https://localhost:8080/",
          "height": 292
        },
        "outputId": "48b6f10e-436a-4c32-f4d8-9eeddd033247"
      },
      "source": [
        "print(df.iloc[0]) \n",
        "df.head() #gives first 5 rows\n",
        " "
      ],
      "execution_count": null,
      "outputs": [
        {
          "output_type": "stream",
          "name": "stdout",
          "text": [
            "0    22.01\n",
            "1     0.72\n",
            "2     1.21\n",
            "3     0.61\n",
            "Name: 0, dtype: float64\n"
          ]
        },
        {
          "output_type": "execute_result",
          "data": {
            "text/html": [
              "<div>\n",
              "<style scoped>\n",
              "    .dataframe tbody tr th:only-of-type {\n",
              "        vertical-align: middle;\n",
              "    }\n",
              "\n",
              "    .dataframe tbody tr th {\n",
              "        vertical-align: top;\n",
              "    }\n",
              "\n",
              "    .dataframe thead th {\n",
              "        text-align: right;\n",
              "    }\n",
              "</style>\n",
              "<table border=\"1\" class=\"dataframe\">\n",
              "  <thead>\n",
              "    <tr style=\"text-align: right;\">\n",
              "      <th></th>\n",
              "      <th>0</th>\n",
              "      <th>1</th>\n",
              "      <th>2</th>\n",
              "      <th>3</th>\n",
              "    </tr>\n",
              "  </thead>\n",
              "  <tbody>\n",
              "    <tr>\n",
              "      <th>0</th>\n",
              "      <td>22.01</td>\n",
              "      <td>0.72</td>\n",
              "      <td>1.21</td>\n",
              "      <td>0.61</td>\n",
              "    </tr>\n",
              "    <tr>\n",
              "      <th>1</th>\n",
              "      <td>19.77</td>\n",
              "      <td>0.14</td>\n",
              "      <td>1.29</td>\n",
              "      <td>0.95</td>\n",
              "    </tr>\n",
              "    <tr>\n",
              "      <th>2</th>\n",
              "      <td>24.64</td>\n",
              "      <td>1.32</td>\n",
              "      <td>1.21</td>\n",
              "      <td>0.66</td>\n",
              "    </tr>\n",
              "    <tr>\n",
              "      <th>3</th>\n",
              "      <td>24.55</td>\n",
              "      <td>0.87</td>\n",
              "      <td>1.42</td>\n",
              "      <td>0.99</td>\n",
              "    </tr>\n",
              "    <tr>\n",
              "      <th>4</th>\n",
              "      <td>21.79</td>\n",
              "      <td>0.51</td>\n",
              "      <td>1.26</td>\n",
              "      <td>0.76</td>\n",
              "    </tr>\n",
              "  </tbody>\n",
              "</table>\n",
              "</div>"
            ],
            "text/plain": [
              "       0     1     2     3\n",
              "0  22.01  0.72  1.21  0.61\n",
              "1  19.77  0.14  1.29  0.95\n",
              "2  24.64  1.32  1.21  0.66\n",
              "3  24.55  0.87  1.42  0.99\n",
              "4  21.79  0.51  1.26  0.76"
            ]
          },
          "metadata": {},
          "execution_count": 8
        }
      ]
    },
    {
      "cell_type": "code",
      "metadata": {
        "id": "hrxo583zxDh1",
        "colab": {
          "base_uri": "https://localhost:8080/"
        },
        "outputId": "31975662-8100-4590-a16d-34fbc93438e5"
      },
      "source": [
        "\n",
        "\n",
        "result=torch.randn(len(df), 50) #create a tensor to store results\n",
        "for k in range(0, len(df)): # calculate Q for each column\n",
        "    aa=df.iloc[[k]] #gives row\n",
        "    bb=torch.tensor(aa.values).float()  # convert row data into tensor\n",
        "    cc = torch.transpose(bb, 0, 1)      #transpose bb row tensor it into 4*1 tensor\n",
        "    dd=f1(cc, W, W2, V, b, A, F)  #run the function to get Q for each random e and fixed W, W2, V, b, A, F\n",
        "    result[[k]] = torch.transpose(dd, 1, 0) # convert 50*1 calculation result into 1*50 # in result, the kth row is the result from kth row of data\n",
        "print(result)\n",
        "\n",
        "\n",
        " \n",
        "\n",
        "\n",
        " "
      ],
      "execution_count": null,
      "outputs": [
        {
          "output_type": "stream",
          "name": "stdout",
          "text": [
            "tensor([[ -5261.2690,  -4084.6313,   2652.1970,  ..., -12595.2227,\n",
            "          14006.1895,  -3045.0271],\n",
            "        [ -3835.6313,  -3005.4211,   1682.4802,  ...,  -8546.5361,\n",
            "          10623.9668,  -2246.0667],\n",
            "        [ -7496.4565,  -5666.5317,   4194.6128,  ..., -18216.0723,\n",
            "          19261.9688,  -3917.9216],\n",
            "        ...,\n",
            "        [ -3614.3997,  -2599.0234,   2376.6917,  ...,  -7763.6001,\n",
            "           9649.2510,  -2121.9348],\n",
            "        [ -6375.7612,  -4695.8291,   3449.5664,  ..., -14794.1943,\n",
            "          17203.2871,  -4292.2515],\n",
            "        [ -1508.5248,  -1204.4741,   1042.6411,  ...,  -3326.3054,\n",
            "           4073.7644,   -838.0945]])\n"
          ]
        }
      ]
    }
  ]
}
